{
 "cells": [
  {
   "cell_type": "markdown",
   "id": "1d11f46a",
   "metadata": {},
   "source": [
    "# Convolutional Neural Networks\n",
    "\n",
    "## Project:Landmark Classification\n",
    "\n",
    "\n",
    "### A simple app that uses the exported model.\n",
    "\n",
    "\n",
    "\n",
    "The app will show the top 5 classes that the model think are most relevant for the picture you have uploaded"
   ]
  },
  {
   "cell_type": "code",
   "execution_count": 4,
   "id": "a03f2697",
   "metadata": {
    "tags": []
   },
   "outputs": [
    {
     "data": {
      "application/vnd.jupyter.widget-view+json": {
       "model_id": "a4c5fbc849274b5ba149c31586794b45",
       "version_major": 2,
       "version_minor": 0
      },
      "text/plain": [
       "FileUpload(value=(), accept='.jpg,.jpeg', description='Upload', multiple=True)"
      ]
     },
     "metadata": {},
     "output_type": "display_data"
    },
    {
     "data": {
      "application/vnd.jupyter.widget-view+json": {
       "model_id": "e9a93838e50e4d229161ee297b0ce3fb",
       "version_major": 2,
       "version_minor": 0
      },
      "text/plain": [
       "Button(description='Classify', style=ButtonStyle())"
      ]
     },
     "metadata": {},
     "output_type": "display_data"
    },
    {
     "data": {
      "application/vnd.jupyter.widget-view+json": {
       "model_id": "934f4a9618b24af8bb1f25dc653584e9",
       "version_major": 2,
       "version_minor": 0
      },
      "text/plain": [
       "Output()"
      ]
     },
     "metadata": {},
     "output_type": "display_data"
    },
    {
     "data": {
      "application/vnd.jupyter.widget-view+json": {
       "model_id": "f0aeb9e58fa9457b8d011807e82a7a16",
       "version_major": 2,
       "version_minor": 0
      },
      "text/plain": [
       "Output()"
      ]
     },
     "metadata": {},
     "output_type": "display_data"
    }
   ],
   "source": [
    "import ipywidgets as widgets\n",
    "from IPython.display import display, clear_output\n",
    "import PIL.Image\n",
    "import torch\n",
    "import torch.jit\n",
    "import io\n",
    "import torchvision.transforms as T\n",
    "\n",
    "# Load your JIT-exported model\n",
    "jit_model_path = 'checkpoints/transfer_exported.pt'\n",
    "jit_model = torch.jit.load(jit_model_path)\n",
    "\n",
    "# Define the upload button and classification button\n",
    "upload_button = widgets.FileUpload(accept=\".jpg,.jpeg\", multiple=True)\n",
    "classify_button = widgets.Button(description=\"Classify\")\n",
    "output_image = widgets.Output()\n",
    "output_scores = widgets.Output()\n",
    "\n",
    "def classify_button_clicked(b):\n",
    "    with output_image:\n",
    "        clear_output(wait=True)\n",
    "        if upload_button.value:\n",
    "            for file_upload in upload_button.value:  # Iterate over the list of dictionaries\n",
    "                img_data = file_upload['content']  # Access the content using the 'content' key\n",
    "                img = PIL.Image.open(io.BytesIO(img_data))\n",
    "\n",
    "                # Extract the file name from the dictionary\n",
    "                file_name = file_upload['name']\n",
    "                \n",
    "                # Print the file name\n",
    "                print(f\"File: {file_name}\")\n",
    "                \n",
    "                # Display a smaller version of the image\n",
    "                ratio = img.size[0] / img.size[1]\n",
    "                img_thumb = img.copy()\n",
    "                img_thumb.thumbnail([ratio * 200, 200])\n",
    "                display(img_thumb)\n",
    "    \n",
    "                img_tensor = preprocess_image(img)\n",
    "                scores = jit_model(img_tensor).data.cpu()\n",
    "                _, indices = torch.topk(scores, k=5)\n",
    "                \n",
    "                class_names = jit_model.class_names\n",
    "                \n",
    "                # Calculate the maximum label length for the top 5 labels\n",
    "                max_label_length = max(len(class_names[i]) if i < len(class_names) else len(f\"Class {i.item()}\") for i in indices[0])\n",
    "                \n",
    "                print(\"Top 5 classes and their scores:\")\n",
    "                for i in indices[0]:\n",
    "                    label = class_names[i] if i < len(class_names) else f\"Class {i.item()}\"\n",
    "                    score = scores[0, i].item()\n",
    "                    padding = max_label_length - len(label) + 1  # Calculate padding based on max label length\n",
    "                    print(f\"{label:<{max_label_length}} Score {score:.2f}\")\n",
    "                print(\"\\n\" + \"=\" * 50 + \"\\n\")\n",
    "        else:\n",
    "            print(\"Please upload an image first.\")\n",
    "                        \n",
    "def preprocess_image(image):\n",
    "    # Preprocess the image for the model   \n",
    "    transform = T.Compose([\n",
    "        T.Resize(256),\n",
    "        T.ToTensor()\n",
    "    ])    \n",
    "    # Apply the transformation to the image\n",
    "    img_tensor = transform(image).unsqueeze_(0)\n",
    "    return img_tensor\n",
    "\n",
    "classify_button.on_click(classify_button_clicked)\n",
    "\n",
    "# Display the widgets\n",
    "display(upload_button)\n",
    "display(classify_button)\n",
    "display(output_image)\n",
    "display(output_scores)"
   ]
  }
 ],
 "metadata": {
  "kernelspec": {
   "display_name": "conda_pytorch_p310",
   "language": "python",
   "name": "conda_pytorch_p310"
  },
  "language_info": {
   "codemirror_mode": {
    "name": "ipython",
    "version": 3
   },
   "file_extension": ".py",
   "mimetype": "text/x-python",
   "name": "python",
   "nbconvert_exporter": "python",
   "pygments_lexer": "ipython3",
   "version": "3.10.12"
  },
  "widgets": {
   "application/vnd.jupyter.widget-state+json": {
    "state": {},
    "version_major": 2,
    "version_minor": 0
   }
  }
 },
 "nbformat": 4,
 "nbformat_minor": 5
}
